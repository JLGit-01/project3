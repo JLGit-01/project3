{
 "cells": [
  {
   "cell_type": "code",
   "execution_count": 9,
   "metadata": {},
   "outputs": [],
   "source": [
    "import matplotlib.pyplot as plt\n",
    "from sklearn import tree\n",
    "#from sklearn.neighbors import KNeighborsClassifier\n",
    "from sklearn.neighbors import KNeighborsRegressor\n",
    "from sklearn.ensemble import RandomForestRegressor\n",
    "import pandas as pd\n",
    "import os\n",
    "import numpy as np"
   ]
  },
  {
   "cell_type": "code",
   "execution_count": 10,
   "metadata": {},
   "outputs": [
    {
     "data": {
      "text/html": [
       "<div>\n",
       "<style scoped>\n",
       "    .dataframe tbody tr th:only-of-type {\n",
       "        vertical-align: middle;\n",
       "    }\n",
       "\n",
       "    .dataframe tbody tr th {\n",
       "        vertical-align: top;\n",
       "    }\n",
       "\n",
       "    .dataframe thead th {\n",
       "        text-align: right;\n",
       "    }\n",
       "</style>\n",
       "<table border=\"1\" class=\"dataframe\">\n",
       "  <thead>\n",
       "    <tr style=\"text-align: right;\">\n",
       "      <th></th>\n",
       "      <th>Maximum Temperature</th>\n",
       "      <th>Minimum Temperature</th>\n",
       "      <th>Temperature</th>\n",
       "      <th>Precipitation</th>\n",
       "      <th>Snow</th>\n",
       "      <th>Snow Depth</th>\n",
       "      <th>Wind Speed</th>\n",
       "      <th>Wind Direction</th>\n",
       "      <th>Visibility</th>\n",
       "      <th>Cloud Cover</th>\n",
       "      <th>Relative Humidity</th>\n",
       "      <th>Conditions</th>\n",
       "      <th>date</th>\n",
       "      <th>id</th>\n",
       "    </tr>\n",
       "  </thead>\n",
       "  <tbody>\n",
       "    <tr>\n",
       "      <th>0</th>\n",
       "      <td>35.5</td>\n",
       "      <td>26.7</td>\n",
       "      <td>30.2</td>\n",
       "      <td>0.29</td>\n",
       "      <td>0.0</td>\n",
       "      <td>0.0</td>\n",
       "      <td>13.6</td>\n",
       "      <td>281.33</td>\n",
       "      <td>8.0</td>\n",
       "      <td>92.6</td>\n",
       "      <td>85.70</td>\n",
       "      <td>Rain, Overcast</td>\n",
       "      <td>2019-01-01</td>\n",
       "      <td>1040</td>\n",
       "    </tr>\n",
       "    <tr>\n",
       "      <th>1</th>\n",
       "      <td>31.1</td>\n",
       "      <td>27.5</td>\n",
       "      <td>29.3</td>\n",
       "      <td>0.00</td>\n",
       "      <td>0.0</td>\n",
       "      <td>0.0</td>\n",
       "      <td>16.2</td>\n",
       "      <td>215.50</td>\n",
       "      <td>7.5</td>\n",
       "      <td>88.0</td>\n",
       "      <td>82.67</td>\n",
       "      <td>Overcast</td>\n",
       "      <td>2019-01-02</td>\n",
       "      <td>654</td>\n",
       "    </tr>\n",
       "    <tr>\n",
       "      <th>2</th>\n",
       "      <td>39.6</td>\n",
       "      <td>25.0</td>\n",
       "      <td>31.9</td>\n",
       "      <td>0.00</td>\n",
       "      <td>0.0</td>\n",
       "      <td>0.0</td>\n",
       "      <td>14.6</td>\n",
       "      <td>220.88</td>\n",
       "      <td>9.7</td>\n",
       "      <td>14.9</td>\n",
       "      <td>75.29</td>\n",
       "      <td>Clear</td>\n",
       "      <td>2019-01-03</td>\n",
       "      <td>752</td>\n",
       "    </tr>\n",
       "    <tr>\n",
       "      <th>3</th>\n",
       "      <td>49.5</td>\n",
       "      <td>31.9</td>\n",
       "      <td>38.4</td>\n",
       "      <td>0.00</td>\n",
       "      <td>0.0</td>\n",
       "      <td>0.0</td>\n",
       "      <td>11.3</td>\n",
       "      <td>247.21</td>\n",
       "      <td>9.9</td>\n",
       "      <td>13.4</td>\n",
       "      <td>68.89</td>\n",
       "      <td>Clear</td>\n",
       "      <td>2019-01-04</td>\n",
       "      <td>767</td>\n",
       "    </tr>\n",
       "    <tr>\n",
       "      <th>4</th>\n",
       "      <td>53.1</td>\n",
       "      <td>31.6</td>\n",
       "      <td>40.8</td>\n",
       "      <td>0.00</td>\n",
       "      <td>0.0</td>\n",
       "      <td>0.0</td>\n",
       "      <td>14.2</td>\n",
       "      <td>261.75</td>\n",
       "      <td>9.9</td>\n",
       "      <td>27.3</td>\n",
       "      <td>75.09</td>\n",
       "      <td>Partially cloudy</td>\n",
       "      <td>2019-01-05</td>\n",
       "      <td>792</td>\n",
       "    </tr>\n",
       "  </tbody>\n",
       "</table>\n",
       "</div>"
      ],
      "text/plain": [
       "   Maximum Temperature  Minimum Temperature  Temperature  Precipitation  Snow  \\\n",
       "0                 35.5                 26.7         30.2           0.29   0.0   \n",
       "1                 31.1                 27.5         29.3           0.00   0.0   \n",
       "2                 39.6                 25.0         31.9           0.00   0.0   \n",
       "3                 49.5                 31.9         38.4           0.00   0.0   \n",
       "4                 53.1                 31.6         40.8           0.00   0.0   \n",
       "\n",
       "   Snow Depth  Wind Speed  Wind Direction  Visibility  Cloud Cover  \\\n",
       "0         0.0        13.6          281.33         8.0         92.6   \n",
       "1         0.0        16.2          215.50         7.5         88.0   \n",
       "2         0.0        14.6          220.88         9.7         14.9   \n",
       "3         0.0        11.3          247.21         9.9         13.4   \n",
       "4         0.0        14.2          261.75         9.9         27.3   \n",
       "\n",
       "   Relative Humidity        Conditions        date    id  \n",
       "0              85.70    Rain, Overcast  2019-01-01  1040  \n",
       "1              82.67          Overcast  2019-01-02   654  \n",
       "2              75.29             Clear  2019-01-03   752  \n",
       "3              68.89             Clear  2019-01-04   767  \n",
       "4              75.09  Partially cloudy  2019-01-05   792  "
      ]
     },
     "execution_count": 10,
     "metadata": {},
     "output_type": "execute_result"
    }
   ],
   "source": [
    "df = pd.read_csv(os.path.join(\"full_data.csv\"))\n",
    "df.head()"
   ]
  },
  {
   "cell_type": "code",
   "execution_count": 23,
   "metadata": {},
   "outputs": [
    {
     "data": {
      "text/plain": [
       "827"
      ]
     },
     "execution_count": 23,
     "metadata": {},
     "output_type": "execute_result"
    }
   ],
   "source": [
    "len(df)"
   ]
  },
  {
   "cell_type": "code",
   "execution_count": 11,
   "metadata": {},
   "outputs": [
    {
     "name": "stdout",
     "output_type": "stream",
     "text": [
      "(827, 11) (827, 1)\n"
     ]
    }
   ],
   "source": [
    "X = df[[\"Maximum Temperature\", \"Minimum Temperature\", \"Temperature\", \"Precipitation\", \"Snow\", \"Snow Depth\", \"Wind Speed\", \"Wind Direction\", \"Visibility\", \"Cloud Cover\", \"Relative Humidity\"]]\n",
    "#X = df[[\"Temperature\",\"Precipitation\"]]\n",
    "y = df[\"id\"].values.reshape(-1, 1)\n",
    "print(X.shape, y.shape)"
   ]
  },
  {
   "cell_type": "code",
   "execution_count": 24,
   "metadata": {},
   "outputs": [],
   "source": [
    "from sklearn.model_selection import train_test_split\n",
    "X_train, X_test, y_train, y_test = train_test_split(X, y, train_size= 0.5,random_state=42)"
   ]
  },
  {
   "cell_type": "code",
   "execution_count": 25,
   "metadata": {},
   "outputs": [],
   "source": [
    "from sklearn.preprocessing import StandardScaler\n",
    "\n",
    "# Create a StandardScater model and fit it to the training data\n",
    "\n",
    "X_scaler = StandardScaler().fit(X_train)"
   ]
  },
  {
   "cell_type": "code",
   "execution_count": null,
   "metadata": {},
   "outputs": [],
   "source": []
  },
  {
   "cell_type": "code",
   "execution_count": 26,
   "metadata": {},
   "outputs": [],
   "source": [
    "# Transform the training and testing data using the X_scaler and y_scaler models\n",
    "\n",
    "X_train_scaled = X_scaler.transform(X_train)\n",
    "X_test_scaled = X_scaler.transform(X_test)"
   ]
  },
  {
   "cell_type": "code",
   "execution_count": 27,
   "metadata": {},
   "outputs": [
    {
     "name": "stdout",
     "output_type": "stream",
     "text": [
      "k: 1, Train/Test Score: 1.000/-0.367\n",
      "k: 3, Train/Test Score: 0.517/-0.036\n",
      "k: 5, Train/Test Score: 0.421/0.067\n",
      "k: 7, Train/Test Score: 0.377/0.110\n",
      "k: 9, Train/Test Score: 0.371/0.139\n",
      "k: 11, Train/Test Score: 0.349/0.149\n",
      "k: 13, Train/Test Score: 0.326/0.161\n",
      "k: 15, Train/Test Score: 0.310/0.161\n",
      "k: 17, Train/Test Score: 0.307/0.167\n",
      "k: 19, Train/Test Score: 0.305/0.168\n"
     ]
    },
    {
     "data": {
      "image/png": "[encoded data removed]",
      "text/plain": [
       "<Figure size 432x288 with 1 Axes>"
      ]
     },
     "metadata": {
      "needs_background": "light"
     },
     "output_type": "display_data"
    }
   ],
   "source": [
    "# # Loop through different k values to see which has the highest accuracy\n",
    "# # Note: We only use odd numbers because we don't want any ties\n",
    "# train_scores = []\n",
    "# test_scores = []\n",
    "# for k in range(1,20,2):\n",
    "# #for k in range(1,200):\n",
    "#     knn = KNeighborsRegressor(n_neighbors=k)\n",
    "#     knn.fit(X_train_scaled, np.ravel(y_train,order='C'))\n",
    "#     train_score = knn.score(X_train_scaled, y_train)\n",
    "#     test_score = knn.score(X_test_scaled, y_test)\n",
    "#     train_scores.append(train_score)\n",
    "#     test_scores.append(test_score)\n",
    "#     print(f\"k: {k}, Train/Test Score: {train_score:.3f}/{test_score:.3f}\")\n",
    "    \n",
    "    \n",
    "# plt.plot(range(1, 20, 2), train_scores, marker='o')\n",
    "# plt.plot(range(1, 20, 2), test_scores, marker=\"x\")\n",
    "# plt.xlabel(\"X\")\n",
    "# plt.ylabel(\"Testing accuracy Score\")\n",
    "# plt.show()"
   ]
  },
  {
   "cell_type": "code",
   "execution_count": 28,
   "metadata": {},
   "outputs": [
    {
     "name": "stdout",
     "output_type": "stream",
     "text": [
      "k=3 Test Acc: 0.021\n"
     ]
    }
   ],
   "source": [
    "# #knn = KNeighborsRegressor(n_neighbors=4)\n",
    "# knn.fit(X_train_scaled, np.ravel(y_train,order='C'))\n",
    "# print('k=3 Test Acc: %.3f' % knn.score(X_test_scaled, y_test))"
   ]
  },
  {
   "cell_type": "code",
   "execution_count": 33,
   "metadata": {},
   "outputs": [],
   "source": [
    "reg= RandomForestRegressor()\n"
   ]
  },
  {
   "cell_type": "code",
   "execution_count": 34,
   "metadata": {},
   "outputs": [
    {
     "data": {
      "text/plain": [
       "RandomForestRegressor()"
      ]
     },
     "execution_count": 34,
     "metadata": {},
     "output_type": "execute_result"
    }
   ],
   "source": [
    "reg.fit(X_train_scaled, np.ravel(y_train,order='C'))"
   ]
  },
  {
   "cell_type": "code",
   "execution_count": 35,
   "metadata": {},
   "outputs": [
    {
     "data": {
      "text/plain": [
       "0.8925436284071964"
      ]
     },
     "execution_count": 35,
     "metadata": {},
     "output_type": "execute_result"
    }
   ],
   "source": [
    "reg.score(X_train_scaled, np.ravel(y_train,order='C'))"
   ]
  },
  {
   "cell_type": "code",
   "execution_count": 36,
   "metadata": {},
   "outputs": [
    {
     "data": {
      "text/plain": [
       "0.11941459379377728"
      ]
     },
     "execution_count": 36,
     "metadata": {},
     "output_type": "execute_result"
    }
   ],
   "source": [
    "reg.score(X_test_scaled, np.ravel(y_test,order='C'))"
   ]
  },
  {
   "cell_type": "code",
   "execution_count": null,
   "metadata": {},
   "outputs": [],
   "source": []
  }
 ],
 "metadata": {
  "kernelspec": {
   "display_name": "Python 3",
   "language": "python",
   "name": "python3"
  },
  "language_info": {
   "codemirror_mode": {
    "name": "ipython",
    "version": 3
   },
   "file_extension": ".py",
   "mimetype": "text/x-python",
   "name": "python",
   "nbconvert_exporter": "python",
   "pygments_lexer": "ipython3",
   "version": "3.8.5"
  },
  "varInspector": {
   "cols": {
    "lenName": 16,
    "lenType": 16,
    "lenVar": 40
   },
   "kernels_config": {
    "python": {
     "delete_cmd_postfix": "",
     "delete_cmd_prefix": "del ",
     "library": "var_list.py",
     "varRefreshCmd": "print(var_dic_list())"
    },
    "r": {
     "delete_cmd_postfix": ") ",
     "delete_cmd_prefix": "rm(",
     "library": "var_list.r",
     "varRefreshCmd": "cat(var_dic_list()) "
    }
   },
   "types_to_exclude": [
    "module",
    "function",
    "builtin_function_or_method",
    "instance",
    "_Feature"
   ],
   "window_display": false
  }
 },
 "nbformat": 4,
 "nbformat_minor": 4
}
