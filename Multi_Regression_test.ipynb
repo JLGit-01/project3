{
 "cells": [
  {
   "cell_type": "code",
   "execution_count": 1,
   "metadata": {},
   "outputs": [],
   "source": [
    "%matplotlib inline\n",
    "import matplotlib.pyplot as plt\n",
    "import numpy as np\n",
    "import pandas as pd"
   ]
  },
  {
   "cell_type": "code",
   "execution_count": 2,
   "metadata": {},
   "outputs": [
    {
     "data": {
      "text/html": [
       "<div>\n",
       "<style scoped>\n",
       "    .dataframe tbody tr th:only-of-type {\n",
       "        vertical-align: middle;\n",
       "    }\n",
       "\n",
       "    .dataframe tbody tr th {\n",
       "        vertical-align: top;\n",
       "    }\n",
       "\n",
       "    .dataframe thead th {\n",
       "        text-align: right;\n",
       "    }\n",
       "</style>\n",
       "<table border=\"1\" class=\"dataframe\">\n",
       "  <thead>\n",
       "    <tr style=\"text-align: right;\">\n",
       "      <th></th>\n",
       "      <th>Maximum Temperature</th>\n",
       "      <th>Minimum Temperature</th>\n",
       "      <th>Temperature</th>\n",
       "      <th>Precipitation</th>\n",
       "      <th>Snow</th>\n",
       "      <th>Snow Depth</th>\n",
       "      <th>Wind Speed</th>\n",
       "      <th>Wind Direction</th>\n",
       "      <th>Visibility</th>\n",
       "      <th>Cloud Cover</th>\n",
       "      <th>Relative Humidity</th>\n",
       "      <th>Conditions</th>\n",
       "      <th>date</th>\n",
       "      <th>id</th>\n",
       "    </tr>\n",
       "  </thead>\n",
       "  <tbody>\n",
       "    <tr>\n",
       "      <th>0</th>\n",
       "      <td>35.5</td>\n",
       "      <td>26.7</td>\n",
       "      <td>30.2</td>\n",
       "      <td>0.29</td>\n",
       "      <td>0.0</td>\n",
       "      <td>0.0</td>\n",
       "      <td>13.6</td>\n",
       "      <td>281.33</td>\n",
       "      <td>8.0</td>\n",
       "      <td>92.6</td>\n",
       "      <td>85.70</td>\n",
       "      <td>Rain, Overcast</td>\n",
       "      <td>2019-01-01</td>\n",
       "      <td>1040</td>\n",
       "    </tr>\n",
       "    <tr>\n",
       "      <th>1</th>\n",
       "      <td>31.1</td>\n",
       "      <td>27.5</td>\n",
       "      <td>29.3</td>\n",
       "      <td>0.00</td>\n",
       "      <td>0.0</td>\n",
       "      <td>0.0</td>\n",
       "      <td>16.2</td>\n",
       "      <td>215.50</td>\n",
       "      <td>7.5</td>\n",
       "      <td>88.0</td>\n",
       "      <td>82.67</td>\n",
       "      <td>Overcast</td>\n",
       "      <td>2019-01-02</td>\n",
       "      <td>654</td>\n",
       "    </tr>\n",
       "    <tr>\n",
       "      <th>2</th>\n",
       "      <td>39.6</td>\n",
       "      <td>25.0</td>\n",
       "      <td>31.9</td>\n",
       "      <td>0.00</td>\n",
       "      <td>0.0</td>\n",
       "      <td>0.0</td>\n",
       "      <td>14.6</td>\n",
       "      <td>220.88</td>\n",
       "      <td>9.7</td>\n",
       "      <td>14.9</td>\n",
       "      <td>75.29</td>\n",
       "      <td>Clear</td>\n",
       "      <td>2019-01-03</td>\n",
       "      <td>752</td>\n",
       "    </tr>\n",
       "    <tr>\n",
       "      <th>3</th>\n",
       "      <td>49.5</td>\n",
       "      <td>31.9</td>\n",
       "      <td>38.4</td>\n",
       "      <td>0.00</td>\n",
       "      <td>0.0</td>\n",
       "      <td>0.0</td>\n",
       "      <td>11.3</td>\n",
       "      <td>247.21</td>\n",
       "      <td>9.9</td>\n",
       "      <td>13.4</td>\n",
       "      <td>68.89</td>\n",
       "      <td>Clear</td>\n",
       "      <td>2019-01-04</td>\n",
       "      <td>767</td>\n",
       "    </tr>\n",
       "    <tr>\n",
       "      <th>4</th>\n",
       "      <td>53.1</td>\n",
       "      <td>31.6</td>\n",
       "      <td>40.8</td>\n",
       "      <td>0.00</td>\n",
       "      <td>0.0</td>\n",
       "      <td>0.0</td>\n",
       "      <td>14.2</td>\n",
       "      <td>261.75</td>\n",
       "      <td>9.9</td>\n",
       "      <td>27.3</td>\n",
       "      <td>75.09</td>\n",
       "      <td>Partially cloudy</td>\n",
       "      <td>2019-01-05</td>\n",
       "      <td>792</td>\n",
       "    </tr>\n",
       "  </tbody>\n",
       "</table>\n",
       "</div>"
      ],
      "text/plain": [
       "   Maximum Temperature  Minimum Temperature  Temperature  Precipitation  Snow  \\\n",
       "0                 35.5                 26.7         30.2           0.29   0.0   \n",
       "1                 31.1                 27.5         29.3           0.00   0.0   \n",
       "2                 39.6                 25.0         31.9           0.00   0.0   \n",
       "3                 49.5                 31.9         38.4           0.00   0.0   \n",
       "4                 53.1                 31.6         40.8           0.00   0.0   \n",
       "\n",
       "   Snow Depth  Wind Speed  Wind Direction  Visibility  Cloud Cover  \\\n",
       "0         0.0        13.6          281.33         8.0         92.6   \n",
       "1         0.0        16.2          215.50         7.5         88.0   \n",
       "2         0.0        14.6          220.88         9.7         14.9   \n",
       "3         0.0        11.3          247.21         9.9         13.4   \n",
       "4         0.0        14.2          261.75         9.9         27.3   \n",
       "\n",
       "   Relative Humidity        Conditions        date    id  \n",
       "0              85.70    Rain, Overcast  2019-01-01  1040  \n",
       "1              82.67          Overcast  2019-01-02   654  \n",
       "2              75.29             Clear  2019-01-03   752  \n",
       "3              68.89             Clear  2019-01-04   767  \n",
       "4              75.09  Partially cloudy  2019-01-05   792  "
      ]
     },
     "execution_count": 2,
     "metadata": {},
     "output_type": "execute_result"
    }
   ],
   "source": [
    "foam = pd.read_csv('full_data.csv')\n",
    "foam.head()"
   ]
  },
  {
   "cell_type": "code",
   "execution_count": 3,
   "metadata": {},
   "outputs": [],
   "source": [
    "from sklearn.model_selection import train_test_split\n",
    "from sklearn.linear_model import LinearRegression\n",
    "model = LinearRegression()"
   ]
  },
  {
   "cell_type": "code",
   "execution_count": 12,
   "metadata": {},
   "outputs": [
    {
     "name": "stdout",
     "output_type": "stream",
     "text": [
      "(827, 11) (827, 1)\n"
     ]
    }
   ],
   "source": [
    "X = foam[[\"Maximum Temperature\", \"Minimum Temperature\", \"Temperature\", \"Precipitation\", \"Snow\", \"Snow Depth\", \"Wind Speed\", \"Wind Direction\", \"Visibility\", \"Cloud Cover\", \"Relative Humidity\"]]\n",
    "#X = foam[[\"Maximum Temperature\", \"Minimum Temperature\",\"Temperature\"]]\n",
    "y = foam[\"id\"].values.reshape(-1, 1)\n",
    "print(X.shape, y.shape)"
   ]
  },
  {
   "cell_type": "code",
   "execution_count": 13,
   "metadata": {},
   "outputs": [],
   "source": [
    "X_train, X_test, y_train, y_test = train_test_split(X, y, random_state=42)"
   ]
  },
  {
   "cell_type": "code",
   "execution_count": 14,
   "metadata": {},
   "outputs": [
    {
     "name": "stdout",
     "output_type": "stream",
     "text": [
      "Training Score: 0.2245217328521545\n",
      "Testing Score: 0.2743612612202093\n"
     ]
    }
   ],
   "source": [
    "model.fit(X_train, y_train)\n",
    "training_score = model.score(X_train, y_train)\n",
    "testing_score = model.score(X_test, y_test)\n",
    "\n",
    "### END SOLUTION \n",
    "\n",
    "print(f\"Training Score: {training_score}\")\n",
    "print(f\"Testing Score: {testing_score}\")"
   ]
  },
  {
   "cell_type": "code",
   "execution_count": 15,
   "metadata": {},
   "outputs": [
    {
     "data": {
      "text/plain": [
       "Text(0.5, 1.0, 'Residual Plot')"
      ]
     },
     "execution_count": 15,
     "metadata": {},
     "output_type": "execute_result"
    },
    {
     "data": {
      "image/png": "[encoded data removed]",
      "text/plain": [
       "<Figure size 432x288 with 1 Axes>"
      ]
     },
     "metadata": {
      "needs_background": "light"
     },
     "output_type": "display_data"
    }
   ],
   "source": [
    "plt.scatter(model.predict(X_train), model.predict(X_train) - y_train, c=\"blue\", label=\"Training Data\")\n",
    "plt.scatter(model.predict(X_test), model.predict(X_test) - y_test, c=\"orange\", label=\"Testing Data\")\n",
    "plt.legend()\n",
    "plt.hlines(y=0, xmin=y.min(), xmax=y.max())\n",
    "plt.title(\"Residual Plot\")"
   ]
  },
  {
   "cell_type": "code",
   "execution_count": null,
   "metadata": {},
   "outputs": [],
   "source": []
  },
  {
   "cell_type": "code",
   "execution_count": null,
   "metadata": {},
   "outputs": [],
   "source": []
  }
 ],
 "metadata": {
  "kernelspec": {
   "display_name": "Python 3",
   "language": "python",
   "name": "python3"
  },
  "language_info": {
   "codemirror_mode": {
    "name": "ipython",
    "version": 3
   },
   "file_extension": ".py",
   "mimetype": "text/x-python",
   "name": "python",
   "nbconvert_exporter": "python",
   "pygments_lexer": "ipython3",
   "version": "3.8.5"
  }
 },
 "nbformat": 4,
 "nbformat_minor": 4
}
