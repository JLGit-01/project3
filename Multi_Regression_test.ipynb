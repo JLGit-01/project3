version https://git-lfs.github.com/spec/v1
oid sha256:faf9c94c6ca08902a462ef7b7039a57b69a9712ff2bb0c0954fb8facb34851e8
size 25423
